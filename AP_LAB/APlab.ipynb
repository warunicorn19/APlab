{
 "cells": [
  {
   "cell_type": "code",
   "execution_count": 3,
   "id": "ace034a8",
   "metadata": {},
   "outputs": [
    {
     "name": "stdout",
     "output_type": "stream",
     "text": [
      "Please enter the Total Number of List Elements: 4\n",
      "Please enter the Value of 1 Element : 22\n",
      "Please enter the Value of 2 Element : 34\n",
      "Please enter the Value of 3 Element : 54\n",
      "Please enter the Value of 4 Element : 66\n",
      "The Largest Element in this List is :  66\n"
     ]
    }
   ],
   "source": [
    "\n",
    "NumList = []\n",
    "Number = int(input(\"Please enter the Total Number of List Elements: \"))\n",
    "for i in range(1, Number + 1):\n",
    "    value = int(input(\"Please enter the Value of %d Element : \" %i))\n",
    "    NumList.append(value)\n",
    "\n",
    "print(\"The Largest Element in this List is : \", max(NumList))"
   ]
  },
  {
   "cell_type": "code",
   "execution_count": 9,
   "id": "810b84ff",
   "metadata": {},
   "outputs": [
    {
     "name": "stdout",
     "output_type": "stream",
     "text": [
      "enter the length of the list4\n",
      "1\n",
      "2\n",
      "3\n",
      "4\n",
      "10\n"
     ]
    }
   ],
   "source": [
    "def sum_list(items):\n",
    "    sum_numbers = 0\n",
    "    for x in items:\n",
    "            sum_numbers+=x\n",
    "    return sum_numbers\n",
    "list=[]\n",
    "n=int(input(\"enter the length of the list\"))\n",
    "for i in range(n):\n",
    "    ele=int(input())\n",
    "    list.append(ele)\n",
    "print(sum_list(list))"
   ]
  },
  {
   "cell_type": "code",
   "execution_count": 10,
   "id": "f9a32bbd",
   "metadata": {},
   "outputs": [
    {
     "name": "stdout",
     "output_type": "stream",
     "text": [
      "10\n"
     ]
    }
   ],
   "source": [
    "list = [1,3,7,8,7,5,4,6,8,5]\n",
    "\n",
    "x= len(list)\n",
    "print(x)"
   ]
  },
  {
   "cell_type": "code",
   "execution_count": 11,
   "id": "3fbe5c1a",
   "metadata": {},
   "outputs": [
    {
     "name": "stdout",
     "output_type": "stream",
     "text": [
      "['a', 'b', 'c', 'd', 1, 2, 3, 4]\n"
     ]
    }
   ],
   "source": [
    "list1=[\"a\",\"b\",\"c\",\"d\"]\n",
    "list2=[1,2,3,4]\n",
    "\n",
    "list3=list1+list2\n",
    "print(list3)"
   ]
  },
  {
   "cell_type": "code",
   "execution_count": 12,
   "id": "8c323d00",
   "metadata": {},
   "outputs": [
    {
     "name": "stdout",
     "output_type": "stream",
     "text": [
      "Enter the length of list5\n",
      "2\n",
      "3\n",
      "4\n",
      "10\n",
      "11\n",
      "Position of element to be removed3\n",
      "[2, 3, 4, 11]\n"
     ]
    }
   ],
   "source": [
    "list=[]\n",
    "n=int(input(\"Enter the length of list\"))\n",
    "for i in range(n):\n",
    "    ele=int(input())\n",
    "    list.append(ele)\n",
    "x=int(input(\"Position of element to be removed\"))\n",
    "y=list.pop(x)\n",
    "print(list)"
   ]
  },
  {
   "cell_type": "code",
   "execution_count": 14,
   "id": "bfa5f406",
   "metadata": {},
   "outputs": [
    {
     "name": "stdout",
     "output_type": "stream",
     "text": [
      "Enter the length of list5\n",
      "1\n",
      "2\n",
      "45\n",
      "65\n",
      "76\n",
      "number to be added34\n",
      "[1, 2, 45, 65, 76, 34]\n"
     ]
    }
   ],
   "source": [
    "list=[]\n",
    "n=int(input(\"Enter the length of list\"))\n",
    "for i in range(n):\n",
    "    ele=int(input())\n",
    "    list.append(ele)\n",
    "x=int(input(\"number to be added\"))\n",
    "list.append(x)\n",
    "print(list)"
   ]
  },
  {
   "cell_type": "code",
   "execution_count": 16,
   "id": "b10a9af1",
   "metadata": {},
   "outputs": [
    {
     "name": "stdout",
     "output_type": "stream",
     "text": [
      "{1: 10, 2: 20, 3: 30, 4: 40, 5: 50, 6: 60}\n"
     ]
    }
   ],
   "source": [
    "dic1={1:10,2:20}\n",
    "dic2={3:30,4:40}\n",
    "dic3={5:50,6:60}\n",
    "dic4 ={}\n",
    "for d in (dic1,dic2,dic3):\n",
    "    dic4.update(d)\n",
    "    \n",
    "print(dic4)"
   ]
  },
  {
   "cell_type": "code",
   "execution_count": 17,
   "id": "9edb9310",
   "metadata": {},
   "outputs": [
    {
     "name": "stdout",
     "output_type": "stream",
     "text": [
      "{'a': 1, 'b': 2, 'c': 3, 'd': 4}\n",
      "{'a': 1, 'c': 3, 'd': 4}\n"
     ]
    }
   ],
   "source": [
    "Dict1={'a':1,'b':2,'c':3,'d':4}\n",
    "print(Dict1)\n",
    "if 'b' in Dict1:\n",
    "    del Dict1['b']\n",
    "print(Dict1)\n",
    "    "
   ]
  },
  {
   "cell_type": "code",
   "execution_count": 19,
   "id": "9948b917",
   "metadata": {},
   "outputs": [
    {
     "name": "stdout",
     "output_type": "stream",
     "text": [
      "[('a', 1), ('b', 2), ('c', 3), ('d', 4)]\n"
     ]
    }
   ],
   "source": [
    "Dict_item = {\"b\":2,\"c\":3,\"a\":1,\"d\":4}\n",
    "\n",
    "Dict_item = Dict_item.items()\n",
    "sorted_items = sorted(Dict_item)\n",
    "\n",
    "print(sorted_items)"
   ]
  },
  {
   "cell_type": "code",
   "execution_count": 20,
   "id": "1b33d694",
   "metadata": {},
   "outputs": [
    {
     "name": "stdout",
     "output_type": "stream",
     "text": [
      "[1, 2, 3, 4]\n",
      "(1, 2, 3, 4)\n"
     ]
    }
   ],
   "source": [
    "lst=[1,2,3,4]\n",
    "print(lst)\n",
    "tpl=tuple(lst)\n",
    "print(tpl)\n"
   ]
  },
  {
   "cell_type": "code",
   "execution_count": 21,
   "id": "56fdf551",
   "metadata": {},
   "outputs": [
    {
     "name": "stdout",
     "output_type": "stream",
     "text": [
      "{1: 'a', 2: 'b'}\n"
     ]
    }
   ],
   "source": [
    "a_tuple = ((1, \"a\"), (2, \"b\"))\n",
    "\n",
    "tuple_as_dictionary = dict(a_tuple)\n",
    "\n",
    "print(tuple_as_dictionary)\n"
   ]
  },
  {
   "cell_type": "code",
   "execution_count": 22,
   "id": "18fdd2e7",
   "metadata": {},
   "outputs": [
    {
     "name": "stdout",
     "output_type": "stream",
     "text": [
      "('k', 'e', 'e', 'g', 'f', 'd', 'a', 'z')\n"
     ]
    }
   ],
   "source": [
    "def Reverse(tuples):\n",
    "    new_tup = tuples[::-1]\n",
    "    return new_tup\n",
    "      \n",
    "# Driver Code\n",
    "tuples = ('z','a','d','f','g','e','e','k')\n",
    "print(Reverse(tuples))\n"
   ]
  },
  {
   "cell_type": "code",
   "execution_count": null,
   "id": "c8677d9d",
   "metadata": {},
   "outputs": [],
   "source": []
  }
 ],
 "metadata": {
  "kernelspec": {
   "display_name": "Python 3",
   "language": "python",
   "name": "python3"
  },
  "language_info": {
   "codemirror_mode": {
    "name": "ipython",
    "version": 3
   },
   "file_extension": ".py",
   "mimetype": "text/x-python",
   "name": "python",
   "nbconvert_exporter": "python",
   "pygments_lexer": "ipython3",
   "version": "3.8.8"
  }
 },
 "nbformat": 4,
 "nbformat_minor": 5
}
